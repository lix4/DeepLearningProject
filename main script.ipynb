{
 "cells": [
  {
   "cell_type": "markdown",
   "metadata": {},
   "source": [
    "# Library Import"
   ]
  },
  {
   "cell_type": "code",
   "execution_count": null,
   "metadata": {
    "collapsed": true
   },
   "outputs": [],
   "source": [
    "import tensorflow as tf         \n",
    "from keras import backend as K  # needed for mixing TensorFlow and Keras commands \n",
    "config = tf.ConfigProto()\n",
    "config.gpu_options.per_process_gpu_memory_fraction = 1.0 \n",
    "sess = tf.Session(config=config)\n",
    "K.set_session(sess)"
   ]
  },
  {
   "cell_type": "code",
   "execution_count": null,
   "metadata": {},
   "outputs": [],
   "source": [
    "import tensorflow as tf\n",
    "import numpy as np\n",
    "from keras.utils import np_utils\n",
    "from keras.models import Sequential\n",
    "from keras.layers.core import Dense,Activation,Flatten\n",
    "from keras.layers.convolutional import Conv2D,MaxPooling2D\n",
    "from keras.optimizers import Adam\n",
    "from keras.callbacks import EarlyStopping"
   ]
  },
  {
   "cell_type": "markdown",
   "metadata": {},
   "source": [
    "# Data Pre-Processing"
   ]
  },
  {
   "cell_type": "code",
   "execution_count": null,
   "metadata": {
    "collapsed": true
   },
   "outputs": [],
   "source": [
    "import cv2"
   ]
  },
  {
   "cell_type": "code",
   "execution_count": null,
   "metadata": {},
   "outputs": [],
   "source": [
    "# capture videos\n",
    "total_frames = 0\n",
    "for k in range(5):\n",
    "    video_index = k + 1\n",
    "    path = './Trimmed%d/trim%d_resized.mp4'%(video_index,video_index)\n",
    "    print(path)\n",
    "    capture = cv2.VideoCapture(path)\n",
    "    frameCount = int(capture.get(cv2.CAP_PROP_FRAME_COUNT))\n",
    "    frameWidth = int(capture.get(cv2.CAP_PROP_FRAME_WIDTH))\n",
    "    frameHeight = int(capture.get(cv2.CAP_PROP_FRAME_HEIGHT))\n",
    "    total_frames += frameCount\n",
    "    print(frameCount)\n",
    "    print(frameHeight)\n",
    "    print(frameWidth)"
   ]
  },
  {
   "cell_type": "code",
   "execution_count": null,
   "metadata": {},
   "outputs": [],
   "source": [
    "frames = np.empty((total_frames, frameWidth, frameHeight, 3), np.dtype('uint8'))\n",
    "print(frames.shape)"
   ]
  },
  {
   "cell_type": "code",
   "execution_count": null,
   "metadata": {},
   "outputs": [],
   "source": [
    "frames[9, :, :, :].shape"
   ]
  },
  {
   "cell_type": "code",
   "execution_count": null,
   "metadata": {},
   "outputs": [],
   "source": [
    "index = 0\n",
    "\n",
    "for k in range(5):\n",
    "    ret = True\n",
    "    video_index = k + 1\n",
    "    path = './Trimmed%d/trim%d_resized.mp4'%(video_index,video_index)\n",
    "    print(path)\n",
    "    capture = cv2.VideoCapture(path)\n",
    "    while True:\n",
    "        ret, frame = capture.read()\n",
    "        if (ret == False):\n",
    "            break\n",
    "        frames[index, :, :, :] = frame\n",
    "        index += 1"
   ]
  },
  {
   "cell_type": "code",
   "execution_count": null,
   "metadata": {
    "collapsed": true
   },
   "outputs": [],
   "source": [
    "N      = 1000\n",
    "EPOCHS = 10\n",
    "BATCH  = 1000\n",
    "TRIALS = 1 \n",
    "\n",
    "cols = ['depth1','depth2','filters','nodes','parameters','stopping','dropout','epochs',\n",
    "    'time (min)','train error','val error','test error']\n",
    "df = pd.DataFrame(np.zeros((TRIALS,len(cols))).fill(np.nan),columns=cols)\n",
    "for trail in range(TRIALS):\n",
    "    print('trial = %d/%d' % (trial+1,TRIALS),flush=True)\n",
    "    try:\n",
    "        model = BuildModel(hp)\n",
    "\n",
    "        model.compile(loss='categorical_crossentropy',optimizer='Adam',metrics=['accuracy'])\n",
    "        time_start = time.time()\n",
    "        hist = model.fit(x_train[:N,:],y_train[:N,:],\n",
    "            batch_size=BATCH,\n",
    "              epochs=EPOCHS,\n",
    "                validation_split=0.2,\n",
    "                verbose=0,\n",
    "                callbacks=[EarlyStopping(patience=hp.stopping)])\n",
    "        time_stop = time.time()\n",
    "        time_elapsed = (time_stop - time_start)/60\n",
    "        train_err = 1 - hist.history['acc'][-1]\n",
    "        val_err = 1 - hist.history['val_acc'][-1]\n",
    "        test_acc = model.evaluate(x_test,y_test,batch_size=BATCH,verbose=0)\n",
    "        test_err = 1 - test_acc[1]\n",
    "        df.loc[trial,'parameters']  = model.count_params()\n",
    "        df.loc[trial,'epochs']      = hist.epoch[-1]\n",
    "        df.loc[trial,'time (min)']  = time_elapsed\n",
    "        df.loc[trial,'train error'] = train_err \n",
    "        df.loc[trial,'val error']   = val_err \n",
    "        df.loc[trial,'test error']  = test_err\n",
    "    except:\n",
    "        print('warning --> exception occured')\n",
    "        df = df.sort_values('val error')\n",
    "        print(df.head().round(2),flush=True)\n",
    "        print()"
   ]
  }
 ],
 "metadata": {
  "kernelspec": {
   "display_name": "Python 3",
   "language": "python",
   "name": "python3"
  },
  "language_info": {
   "codemirror_mode": {
    "name": "ipython",
    "version": 3
   },
   "file_extension": ".py",
   "mimetype": "text/x-python",
   "name": "python",
   "nbconvert_exporter": "python",
   "pygments_lexer": "ipython3",
   "version": "3.6.1"
  }
 },
 "nbformat": 4,
 "nbformat_minor": 2
}
